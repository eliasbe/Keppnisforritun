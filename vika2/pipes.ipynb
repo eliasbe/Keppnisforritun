{
 "cells": [
  {
   "cell_type": "code",
   "execution_count": 12,
   "id": "276dc6dd-c641-4ec8-9df9-f9843e45b4ee",
   "metadata": {},
   "outputs": [
    {
     "name": "stdin",
     "output_type": "stream",
     "text": [
      " 2 2\n",
      " CC\n",
      " CC\n"
     ]
    },
    {
     "name": "stdout",
     "output_type": "stream",
     "text": [
      "Possible\n"
     ]
    }
   ],
   "source": [
    "##\n",
    "##\n",
    "\n",
    "def checkpipes():\n",
    "    n, m = input().split()\n",
    "    n = int(n)\n",
    "    m = int(m)\n",
    "\n",
    "    pipes = []\n",
    "    for i in range(n):\n",
    "        pipes.append(input())\n",
    "\n",
    "    compass = []\n",
    "    for i in range(n+2):\n",
    "        l = []\n",
    "        for j in range(m+2):\n",
    "            t = (0,0)\n",
    "            l.append(t)\n",
    "        compass.append(l)\n",
    "\n",
    "    for i in range(n):\n",
    "        for j in range(m):\n",
    "            cell = pipes[i][j]\n",
    "            west = compass[i+1][j][1]\n",
    "            north = compass[i][j+1][0]\n",
    "\n",
    "            if cell == 'A':\n",
    "                if west or nort:\n",
    "                    return \"Impossible\"\n",
    "                else:\n",
    "                    compass[i+1][j+1] = (0,0)\n",
    "            elif cell == 'B':\n",
    "                if not (west ^ nort):\n",
    "                    return \"Impossible\"\n",
    "                elif west:\n",
    "                    compass[i+1][j+1] = (0,1)\n",
    "                elif north:\n",
    "                    compass[i+1][j+1] = (1,0)\n",
    "            elif cell == 'C':\n",
    "                if west and north:\n",
    "                    compass[i+1][j+1] = (0,0)\n",
    "                elif west and not north:\n",
    "                    compass[i+1][j+1] = (1,0)\n",
    "                elif not west and north:\n",
    "                    compass[i+1][j+1] = (0,1)\n",
    "                elif not west and not north:\n",
    "                    compass[i+1][j+1] = (1,1)\n",
    "            elif cell == 'D':\n",
    "                if not (west and north):\n",
    "                    return \"Impossible\"\n",
    "                compass[i+1][j+1] = (1,1)\n",
    "    \n",
    "    return \"Possible\"\n",
    "\n",
    "print(checkpipes())\n",
    "        "
   ]
  },
  {
   "cell_type": "code",
   "execution_count": 3,
   "id": "c966e74d-2109-4dd7-90cd-fbbc937b6440",
   "metadata": {},
   "outputs": [
    {
     "data": {
      "text/plain": [
       "['bla']"
      ]
     },
     "execution_count": 3,
     "metadata": {},
     "output_type": "execute_result"
    }
   ],
   "source": [
    "\"bla\".split()"
   ]
  },
  {
   "cell_type": "code",
   "execution_count": null,
   "id": "baf58a82-9bf7-4a47-8645-44bcebf8286a",
   "metadata": {},
   "outputs": [],
   "source": []
  }
 ],
 "metadata": {
  "kernelspec": {
   "display_name": "Python 3 (ipykernel)",
   "language": "python",
   "name": "python3"
  },
  "language_info": {
   "codemirror_mode": {
    "name": "ipython",
    "version": 3
   },
   "file_extension": ".py",
   "mimetype": "text/x-python",
   "name": "python",
   "nbconvert_exporter": "python",
   "pygments_lexer": "ipython3",
   "version": "3.9.7"
  }
 },
 "nbformat": 4,
 "nbformat_minor": 5
}
